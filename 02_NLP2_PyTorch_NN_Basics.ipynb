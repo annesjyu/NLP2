{
  "cells": [
    {
      "cell_type": "markdown",
      "metadata": {
        "id": "view-in-github",
        "colab_type": "text"
      },
      "source": [
        "<a href=\"https://colab.research.google.com/github/annesjyu/NLP2/blob/main/02_NLP2_PyTorch_NN_Basics.ipynb\" target=\"_parent\"><img src=\"https://colab.research.google.com/assets/colab-badge.svg\" alt=\"Open In Colab\"/></a>"
      ]
    },
    {
      "cell_type": "markdown",
      "source": [
        "# Developing NN Components Using PyTorch\n",
        "\n",
        "PyTorch libraries can be used to build, train, test, and validate NN. The process includes defining the architecture of the network by creating layers and connections between layers, selecting activation functions, and specifying how data flows through the network.\n",
        "\n",
        "Developers can leverage pre-defined modules like `nn.Linear` for linear layers, `nn.Conv2d` for convolutional layers, or custom modules by extending the `nn.Module` class.\n",
        "\n",
        "The learning objectives:\n",
        "\n",
        "1.   a single layer of NN\n",
        "2.   activation functions\n",
        "3.   loss functions\n",
        "4.   optimizers\n",
        "5.   evaluation metrics\n",
        "6.   hyperparameters\n",
        "7.   k-fold\n",
        "8.   a real application to predict tweet sentiments\n",
        "\n"
      ],
      "metadata": {
        "id": "ux2A3qNdKimp"
      }
    },
    {
      "cell_type": "code",
      "execution_count": null,
      "metadata": {
        "id": "aBnHew7WKTqd"
      },
      "outputs": [],
      "source": [
        "import numpy as np\n",
        "import torch\n",
        "import torch.nn as nn\n",
        "\n",
        "seed = 1337\n",
        "\n",
        "''' setting the seed for random number generation in different libraries,\n",
        "specifically PyTorch and NumPy. Setting the seed is an important step in\n",
        "ensuring reproducibility in experiments involving random processes. '''\n",
        "\n",
        "torch.manual_seed(seed)\n",
        "torch.cuda.manual_seed_all(seed)\n",
        "np.random.seed(seed)\n",
        "\n",
        "%matplotlib inline"
      ]
    },
    {
      "cell_type": "markdown",
      "source": [
        "## The Perceptron\n",
        "\n",
        "A perceptron is essentially a single-layer NN with a linear model followed by an activation function. This is the basic unit in a NN architecture.\n",
        "\n",
        "<img src=\"https://gamedevacademy.org/wp-content/uploads/2017/09/Single-Perceptron.png.webp\" width=350>\n",
        "\n"
      ],
      "metadata": {
        "id": "tEdrjk_8McOq"
      }
    },
    {
      "cell_type": "code",
      "execution_count": null,
      "metadata": {
        "id": "8YoGhX3MKTqh"
      },
      "outputs": [],
      "source": [
        "class Perceptron(nn.Module):\n",
        "    \"\"\"\n",
        "    A perceptron is one linear layer\n",
        "    \"\"\"\n",
        "\n",
        "    def __init__(self, input_dim, out_dim=1, cal_prob=True):\n",
        "        \"\"\"\n",
        "        Args:\n",
        "            input_dim (int): size of the input features\n",
        "            out_dim (int): size of the output features\n",
        "            cal_prob (bool): whether to calculate the probability or not\n",
        "        \"\"\"\n",
        "        super(Perceptron, self).__init__()\n",
        "        self.cal_prob = cal_prob\n",
        "        self.fc1 = nn.Linear(in_features=input_dim,\n",
        "                             out_features=out_dim,\n",
        "                             bias=True)\n",
        "\n",
        "    def forward(self, x_in):\n",
        "        \"\"\"The forward pass of the perceptron, i.e., the linear model.\n",
        "\n",
        "        Args:\n",
        "            x_in (torch.Tensor): an input data tensor\n",
        "            x_in.shape should be (batch, num_features)\n",
        "        Returns:\n",
        "            the resulting tensor with tensor.shape of (batch, out_dim).\n",
        "        \"\"\"\n",
        "        y = self.fc1(x_in)\n",
        "        if self.cal_prob:\n",
        "          y = torch.sigmoid(y)\n",
        "        return y.squeeze()"
      ]
    },
    {
      "cell_type": "markdown",
      "metadata": {
        "id": "SWA7vWPuKTqi"
      },
      "source": [
        "## Activation Functions\n",
        "\n",
        "They are **nonlinearities** introduced in the neural network to capture complex relationships in data.\n",
        "\n",
        "1. sigmoid - $(0,1)$, differential, saturate very quickly for a majority of the inputs, might lead to **vanishing gradient problem**.\n",
        "\n",
        "2. Hyperbolic Tangent Function (Tanh) - $[-1, 1]$, differential, also suffers from vanishing gradients problem. It is a linear transformation of the sigmoid.\n",
        "\n",
        "3. Rectified Linear Unit (ReLU) - $[0, ∞)$, differentiable at all points except at 0, enables sparse activation.\n",
        "\n",
        "4. softmax - $[0, 1]$, the total sum is $1$, generalizes the sigmoid function for multi-class classification tasks, differentiable, outputs a probability across multiple classes."
      ]
    },
    {
      "cell_type": "code",
      "execution_count": null,
      "metadata": {
        "id": "AgYTIigwKTqi",
        "outputId": "fbb5380d-bcd6-49d2-831f-dec74f84d0cd",
        "colab": {
          "base_uri": "https://localhost:8080/",
          "height": 430
        }
      },
      "outputs": [
        {
          "output_type": "display_data",
          "data": {
            "text/plain": [
              "<Figure size 640x480 with 1 Axes>"
            ],
            "image/png": "[encoded data removed]"
          },
          "metadata": {}
        }
      ],
      "source": [
        "import torch\n",
        "import matplotlib.pyplot as plt\n",
        "\n",
        "x = torch.arange(-5., 5., 0.1)\n",
        "y = torch.sigmoid(x)\n",
        "plt.plot(x.numpy(), y.detach().numpy())\n",
        "plt.show()"
      ]
    },
    {
      "cell_type": "code",
      "execution_count": null,
      "metadata": {
        "id": "bAo8AzooKTqj",
        "outputId": "be4beb87-3b33-4fd4-e0b4-97b100546564",
        "colab": {
          "base_uri": "https://localhost:8080/",
          "height": 430
        }
      },
      "outputs": [
        {
          "output_type": "display_data",
          "data": {
            "text/plain": [
              "<Figure size 640x480 with 1 Axes>"
            ],
            "image/png": "[encoded data removed]"
          },
          "metadata": {}
        }
      ],
      "source": [
        "import torch\n",
        "import matplotlib.pyplot as plt\n",
        "\n",
        "x = torch.arange(-5., 5., 0.1)\n",
        "y = torch.tanh(x)\n",
        "\n",
        "plt.plot(x.numpy(), y.detach().numpy())\n",
        "plt.show()"
      ]
    },
    {
      "cell_type": "code",
      "execution_count": null,
      "metadata": {
        "id": "2HatIDlSKTqj",
        "outputId": "4ee2b861-2963-4f2b-de19-928e1e8468e7",
        "colab": {
          "base_uri": "https://localhost:8080/",
          "height": 430
        }
      },
      "outputs": [
        {
          "output_type": "display_data",
          "data": {
            "text/plain": [
              "<Figure size 640x480 with 1 Axes>"
            ],
            "image/png": "[encoded data removed]"
          },
          "metadata": {}
        }
      ],
      "source": [
        "import torch\n",
        "import matplotlib.pyplot as plt\n",
        "\n",
        "relu = torch.nn.ReLU()\n",
        "x = torch.arange(-5., 5., 0.1)\n",
        "y = relu(x)\n",
        "\n",
        "plt.plot(x.numpy(), y.detach().numpy())\n",
        "plt.show()"
      ]
    },
    {
      "cell_type": "markdown",
      "source": [
        "### Parametric ReLU\n",
        "\n",
        "It is a variant of ReLU, $ReLU(x) = max(0,x)$, while $PReLU(x)=max(x, ax)$ with $a$ is a leak coefficient."
      ],
      "metadata": {
        "id": "seTgXeDGR55y"
      }
    },
    {
      "cell_type": "code",
      "execution_count": null,
      "metadata": {
        "id": "F1ELyyXVKTqk",
        "outputId": "a750a189-0390-4964-81b8-0d3c2ad40b17",
        "colab": {
          "base_uri": "https://localhost:8080/",
          "height": 430
        }
      },
      "outputs": [
        {
          "output_type": "display_data",
          "data": {
            "text/plain": [
              "<Figure size 640x480 with 1 Axes>"
            ],
            "image/png": "[encoded data removed]"
          },
          "metadata": {}
        }
      ],
      "source": [
        "import torch.nn as nn\n",
        "import matplotlib.pyplot as plt\n",
        "\n",
        "# num_parameters (int, optional): It's the number of α parameters to learn. A\n",
        "# value of 1 means a single α (slope of the negative part) is used for all input\n",
        "# channels. If you want a separate α for each input channel, you can set it to\n",
        "# the number of channels. The default is 1.\n",
        "prelu = nn.PReLU(num_parameters=1)\n",
        "x = torch.arange(-5., 5., 0.1)\n",
        "y = prelu(x)\n",
        "\n",
        "plt.plot(x.numpy(), y.detach().numpy())\n",
        "plt.show()"
      ]
    },
    {
      "cell_type": "code",
      "execution_count": null,
      "metadata": {
        "id": "qFhl7nHjKTqk",
        "outputId": "2b9e5011-d695-4014-ab3b-54a49af45edd",
        "colab": {
          "base_uri": "https://localhost:8080/"
        }
      },
      "outputs": [
        {
          "output_type": "stream",
          "name": "stdout",
          "text": [
            "tensor([[-2.0260, -2.0655, -1.2054]])\n",
            "tensor([[0.2362, 0.2271, 0.5367]])\n",
            "tensor([1.])\n"
          ]
        }
      ],
      "source": [
        "softmax = nn.Softmax(dim=1)\n",
        "x_input = torch.randn(1, 3)\n",
        "y_output = softmax(x_input)\n",
        "print(x_input)\n",
        "print(y_output)\n",
        "\n",
        "# Validate probability sum to be 1.\n",
        "print(torch.sum(y_output, dim=1))"
      ]
    },
    {
      "cell_type": "markdown",
      "metadata": {
        "id": "shICmuxHKTqk"
      },
      "source": [
        "## Loss Functions\n",
        "\n",
        "Loss functions, also known as cost functions or objective functions, measure the difference between the predicted output of the network and the actual target values. The goal of training is to **minimize** this loss."
      ]
    },
    {
      "cell_type": "markdown",
      "source": [
        "### MSE\n",
        "For numerical targets used in regression, Mean Squared Error (MSE) can be used. Other variations are Mean Absolute Error (MAE) and Root Mean Squared Error (RMSE). They depend on how you want to calculate the distance between two points - Euclidean or Manhattan distance."
      ],
      "metadata": {
        "id": "BXwAqpckVYf5"
      }
    },
    {
      "cell_type": "code",
      "execution_count": null,
      "metadata": {
        "id": "EOU95fljKTql",
        "outputId": "0fc02b35-d8e6-41e6-94ca-8ca1d25592ba",
        "colab": {
          "base_uri": "https://localhost:8080/"
        }
      },
      "outputs": [
        {
          "output_type": "stream",
          "name": "stdout",
          "text": [
            "outputs=tensor([[-0.9122, -1.2502,  0.8032, -0.2071,  0.0544],\n",
            "        [ 0.1378, -0.3889,  0.5133,  0.3319,  0.6300],\n",
            "        [ 0.5815, -0.0282, -0.1744, -1.2221,  1.5787]], requires_grad=True)\n",
            "targets=tensor([[ 0.5397,  1.1634,  0.6947, -1.2307,  0.6871],\n",
            "        [ 1.1841, -0.2909,  1.5433,  1.8641,  1.6099],\n",
            "        [ 1.3526, -0.7395, -1.1731,  0.9226,  0.0033]])\n",
            "loss=1.603075385093689\n"
          ]
        }
      ],
      "source": [
        "import torch\n",
        "import torch.nn as nn\n",
        "\n",
        "mse_loss = nn.MSELoss()\n",
        "outputs = torch.randn(3, 5, requires_grad=True)\n",
        "targets = torch.randn(3, 5)\n",
        "print(f'outputs={outputs}')\n",
        "print(f'targets={targets}')\n",
        "loss = mse_loss(outputs, targets)\n",
        "loss.backward()\n",
        "print(f'loss={loss}')"
      ]
    },
    {
      "cell_type": "markdown",
      "metadata": {
        "id": "FdFI4VFYKTql"
      },
      "source": [
        "### Cross-Entropy Loss\n",
        "\n",
        "For categorical targets, the common loss function is cross-entropy loss. Entropy is from information theory. It quarlifies difference between log probability across classes, e.g., $[ H(y, \\hat{y}) = - \\frac{1}{N} \\sum_{i=1}^{N} \\sum_{c=1}^{M} y_{ic} \\cdot \\log(\\hat{y}_{ic}) ]$\n",
        "\n",
        "Where:\n",
        "- $N$ is the number of samples or instances.\n",
        "- $M$ is the number of possible classes.\n",
        "- $y_{ic}$ is a binary indicator of whether class label $(c)$ is the correct classification for observation $i$.\n",
        "- $\\hat{y}_{ic}$ is the predicted probability that observation $i$ is of class $c$."
      ]
    },
    {
      "cell_type": "code",
      "execution_count": null,
      "metadata": {
        "id": "g1X-qDGiKTql",
        "outputId": "044fb3eb-1be1-4f1a-8561-cc88fafb9ff7",
        "colab": {
          "base_uri": "https://localhost:8080/"
        }
      },
      "outputs": [
        {
          "output_type": "stream",
          "name": "stdout",
          "text": [
            "tensor(2.5949, grad_fn=<NllLossBackward0>)\n"
          ]
        }
      ],
      "source": [
        "import torch\n",
        "import torch.nn as nn\n",
        "\n",
        "ce_loss = nn.CrossEntropyLoss()\n",
        "outputs = torch.randn(3, 5, requires_grad=True)\n",
        "targets = torch.tensor([1, 0, 3], dtype=torch.int64)\n",
        "loss = ce_loss(outputs, targets)\n",
        "loss.backward()\n",
        "print (loss)"
      ]
    },
    {
      "cell_type": "markdown",
      "metadata": {
        "id": "JKckDRaXKTql"
      },
      "source": [
        "#### Binary Cross-Entropy"
      ]
    },
    {
      "cell_type": "code",
      "execution_count": null,
      "metadata": {
        "id": "sMY8jW2jKTql",
        "outputId": "c08ce620-9071-4b20-c8cd-bc1a92e528c1",
        "colab": {
          "base_uri": "https://localhost:8080/"
        }
      },
      "outputs": [
        {
          "output_type": "stream",
          "name": "stdout",
          "text": [
            "tensor([[0.7411],\n",
            "        [0.5622],\n",
            "        [0.8286],\n",
            "        [0.6569]], grad_fn=<SigmoidBackward0>)\n",
            "tensor(0.5958, grad_fn=<BinaryCrossEntropyBackward0>)\n"
          ]
        }
      ],
      "source": [
        "bce_loss = nn.BCELoss()\n",
        "sigmoid = nn.Sigmoid()\n",
        "probabilities = sigmoid(torch.randn(4, 1, requires_grad=True))\n",
        "print(probabilities)\n",
        "\n",
        "targets = torch.tensor([1, 0, 1, 0], dtype=torch.float32).view(4, 1)\n",
        "loss = bce_loss(probabilities, targets)\n",
        "loss.backward()\n",
        "print(loss)"
      ]
    },
    {
      "cell_type": "markdown",
      "source": [
        "## Optimizer\n",
        "\n",
        "Loss function calculates the error between prediction and target, while optimizer updates the parameter using the error. It has a parameter called learning_rate, the smaller value causes smoothers updates, and the bigger value updates parameters faster."
      ],
      "metadata": {
        "id": "N-Xtj3_nXBvl"
      }
    },
    {
      "cell_type": "code",
      "source": [
        "import torch.optim as optim\n",
        "\n",
        "input_dim = 2\n",
        "lr = 0.001\n",
        "\n",
        "model = Perceptron(input_dim=input_dim)\n",
        "bce_loss = nn.BCELoss()\n",
        "optimizer1 = optim.SGD(model.parameters(), lr=lr)\n",
        "print(optimizer1)\n",
        "\n",
        "optimizer2 = optim.Adam(model.parameters(), lr=lr)\n",
        "print(optimizer2)"
      ],
      "metadata": {
        "colab": {
          "base_uri": "https://localhost:8080/"
        },
        "id": "z4ctdiomX4Rw",
        "outputId": "c43c853c-d2bc-4e57-95b0-5a62aebfda91"
      },
      "execution_count": null,
      "outputs": [
        {
          "output_type": "stream",
          "name": "stdout",
          "text": [
            "SGD (\n",
            "Parameter Group 0\n",
            "    dampening: 0\n",
            "    differentiable: False\n",
            "    foreach: None\n",
            "    lr: 0.001\n",
            "    maximize: False\n",
            "    momentum: 0\n",
            "    nesterov: False\n",
            "    weight_decay: 0\n",
            ")\n",
            "Adam (\n",
            "Parameter Group 0\n",
            "    amsgrad: False\n",
            "    betas: (0.9, 0.999)\n",
            "    capturable: False\n",
            "    differentiable: False\n",
            "    eps: 1e-08\n",
            "    foreach: None\n",
            "    fused: None\n",
            "    lr: 0.001\n",
            "    maximize: False\n",
            "    weight_decay: 0\n",
            ")\n"
          ]
        }
      ]
    },
    {
      "cell_type": "markdown",
      "source": [
        "### Regulization methods\n",
        "\n",
        "They are used to compensate overfitting problem, where a model performs well on training data but poorly on new, unseen data. The problem happens when a model learns not only the underlying patterns in the data but also the noise and random fluctuations.\n",
        "\n",
        "* Weight regulization:\n",
        "  * L1 regulization (Lasso)\n",
        "  * L2 regulization (Ridge)\n",
        "\n",
        "* Structure regulization\n",
        "  * dropout"
      ],
      "metadata": {
        "id": "YUv2iwa3eYj_"
      }
    },
    {
      "cell_type": "markdown",
      "source": [
        "#### L1 Regulization\n",
        "\n",
        "L1 Regularization (Lasso Regularization):\n",
        "\n",
        "> It adds a penalty equal to the absolute value of the magnitude of the coefficients. In other words, it adds the sum of the absolute values of the weights to the loss function.\n",
        "\n",
        "L2 Regularization (Ridge Regularization/Weight Decay):\n",
        "\n",
        "> It adds a penalty equal to the square of the magnitude of the coefficients. This means it adds the sum of the squares of the weights to the loss function.\n",
        "It encourages the weights to be small but doesn't force them to exactly zero."
      ],
      "metadata": {
        "id": "Qyd2JlZINJcz"
      }
    },
    {
      "cell_type": "markdown",
      "source": [
        "#### L2 Regulization or Weight Decay"
      ],
      "metadata": {
        "id": "2MAXX9ncetFN"
      }
    },
    {
      "cell_type": "markdown",
      "source": [
        "**Large Weight Decay** (Blue line): With a larger weight decay factor, the weights are more aggressively pushed towards zero compared to the smaller weight decay factor. This represents a stronger regularization effect, which can significantly reduce the magnitude of weights but might also risk underfitting if too aggressive.\n",
        "\n",
        "**Small Weight Decay** (Red line): With a smaller weight decay factor, the weights are gently nudged towards zero. It's a more subtle form of regularization, preserving more information from the original weights while still helping to prevent overfitting."
      ],
      "metadata": {
        "id": "9G39idWcfl2e"
      }
    },
    {
      "cell_type": "markdown",
      "source": [
        "#### An Example for L1 and L2 Regulization\n",
        "\n",
        "Implementing L1 regularization in PyTorch requires a manual approach, as PyTorch's optimizers like SGD or Adam do not directly support an L1 penalty term. You'll need to compute the L1 penalty separately and add it to the loss function. Here's an example:"
      ],
      "metadata": {
        "id": "VSMG3S7zO3iI"
      }
    },
    {
      "cell_type": "code",
      "source": [
        "import torch.optim as optim\n",
        "\n",
        "# L2 regulization is weight_decay\n",
        "optimizer = optim.AdamW(model.parameters(), lr=0.01, weight_decay=1e-5)"
      ],
      "metadata": {
        "id": "l7vgYEFFezic"
      },
      "execution_count": null,
      "outputs": []
    },
    {
      "cell_type": "code",
      "source": [
        "import torch\n",
        "import torch.nn as nn\n",
        "import matplotlib.pyplot as plt\n",
        "\n",
        "# Creating a simple linear dataset (y = 2x + 3)\n",
        "x = torch.linspace(-1, 1, 100).view(-1, 1)\n",
        "y = 2 * x + 3 + 0.1 * torch.randn(x.size())\n",
        "fig, axes = plt.subplots(1, 2, figsize=(10, 4))  # 1 row, 2 columns\n",
        "\n",
        "# Plotting the first graph on the first subplot\n",
        "axes[0].plot(x.numpy(), y.numpy(), 'r')\n",
        "axes[0].set_title('Training Data')\n",
        "axes[0].set_xlabel('x axis')\n",
        "axes[0].set_ylabel('y axis')\n",
        "axes[0].grid(True)\n",
        "\n",
        "# Simple linear model\n",
        "model = nn.Linear(1, 1)\n",
        "\n",
        "# Loss function - Mean Squared Error for regression\n",
        "loss_fn = nn.MSELoss()\n",
        "\n",
        "# Training function\n",
        "def train_model(weight_decay):\n",
        "    # Reset model weights for fresh training\n",
        "    model.weight.data.fill_(1.0)\n",
        "    model.bias.data.fill_(0.0)\n",
        "\n",
        "    # Optimizer with specified weight decay\n",
        "    optimizer = optim.SGD(model.parameters(), lr=0.1, weight_decay=weight_decay)\n",
        "\n",
        "    # Tracking weight values over epochs\n",
        "    weight_values = []\n",
        "    losses = []\n",
        "\n",
        "    # Training epochs\n",
        "    for _ in range(50):\n",
        "        # Forward pass\n",
        "        y_pred = model(x)\n",
        "\n",
        "        # Loss calculation\n",
        "        loss = loss_fn(y_pred, y)\n",
        "        losses.append(loss.item())\n",
        "\n",
        "        # L1 Regularization\n",
        "        l1_lambda = 0.01\n",
        "        l1_norm = sum(p.abs().sum() for p in model.parameters())\n",
        "\n",
        "        # Add L1 regularized term to loss\n",
        "        loss = loss + l1_lambda * l1_norm\n",
        "\n",
        "        # Backward pass and optimization\n",
        "        optimizer.zero_grad()\n",
        "        loss.backward()\n",
        "        optimizer.step()\n",
        "\n",
        "        # Record the current weight value\n",
        "        weight_values.append(model.weight.data.item())\n",
        "\n",
        "    return weight_values, losses\n",
        "\n",
        "# Training with different weight decay values\n",
        "weights_small_decay, losses_small_decay = train_model(weight_decay=1e-5)  # Small weight decay\n",
        "weights_large_decay, losses_large_decay = train_model(weight_decay=1e-1)  # Large weight decay\n",
        "\n",
        "axes[1].plot(weights_small_decay, label='Small Weight Decay (1e-5)')\n",
        "axes[1].plot(weights_large_decay, label='Large Weight Decay (1e-1)')\n",
        "axes[1].set_xlabel('Epochs')\n",
        "axes[1].set_ylabel('Weight Value')\n",
        "axes[1].set_title('Effect of Weight Decay on Model Weights')\n",
        "axes[1].legend()\n",
        "axes[1].grid(True)\n",
        "\n",
        "plt.tight_layout()\n",
        "plt.show()\n",
        "\n",
        "plt.plot(losses_small_decay, label='Small Weight Decay (1e-5)')\n",
        "plt.plot(losses_large_decay, label='Large Weight Decay (1e-1)')\n",
        "plt.xlabel('Epochs')\n",
        "plt.ylabel('Loss')\n",
        "plt.title('Effect of Weight Decay on Loss')\n",
        "plt.legend()\n",
        "plt.grid(True)\n",
        "plt.show()"
      ],
      "metadata": {
        "colab": {
          "base_uri": "https://localhost:8080/",
          "height": 730
        },
        "id": "aQ5FZbhZfghY",
        "outputId": "4779a7ff-3b7d-4c2c-c4fe-afdfacf3f129"
      },
      "execution_count": null,
      "outputs": [
        {
          "output_type": "display_data",
          "data": {
            "text/plain": [
              "<Figure size 1000x400 with 2 Axes>"
            ],
            "image/png": "[encoded data removed]"
          },
          "metadata": {}
        },
        {
          "output_type": "display_data",
          "data": {
            "text/plain": [
              "<Figure size 640x480 with 1 Axes>"
            ],
            "image/png": "[encoded data removed]"
          },
          "metadata": {}
        }
      ]
    },
    {
      "cell_type": "markdown",
      "source": [
        "## A Framework to Classify Datasets\n",
        "\n",
        "Hyperparameters:\n",
        "\n",
        "* epochs\n",
        "\n",
        "> how many times the full traning dataset will be seen by the model, e.g., 5.\n",
        "\n",
        "* batches\n",
        "\n",
        "> how many data samples will be used to update parameters at once, e.g. 10."
      ],
      "metadata": {
        "id": "L2qys-a6YktB"
      }
    },
    {
      "cell_type": "code",
      "source": [
        "n_epochs = 5\n",
        "batch_size = 10\n",
        "input_dim = 2\n",
        "lr = 0.001\n",
        "\n",
        "training_size = 700\n",
        "validation_size = 150\n",
        "testing_size = 150\n",
        "\n",
        "n_batches = int(training_size / batch_size) # 70\n",
        "\n",
        "model = Perceptron(input_dim=input_dim)\n",
        "loss_fn = nn.MSELoss()\n",
        "optimizer = optim.Adam(model.parameters(), lr=lr, weight_decay=1e-5)"
      ],
      "metadata": {
        "id": "e-wYLVbVYrZX"
      },
      "execution_count": null,
      "outputs": []
    },
    {
      "cell_type": "markdown",
      "source": [
        "The prediction is for a simple simulated dataset, with 2 features and 1 numerical target."
      ],
      "metadata": {
        "id": "4xic3C7haNZi"
      }
    },
    {
      "cell_type": "code",
      "source": [
        "for epoch in range(n_epochs):\n",
        "    print(f'epoch={epoch}')\n",
        "    for batch in range(n_batches):\n",
        "        # Generate fake data for the batch.\n",
        "        x = torch.randn(batch_size, input_dim)\n",
        "        y_target = torch.randn(batch_size, 1).squeeze()\n",
        "        #print(f'x={x}')\n",
        "        #print(f'y_target={y_target}')\n",
        "\n",
        "        # Reset gradients\n",
        "        optimizer.zero_grad()\n",
        "\n",
        "        # Forward pass: compute predicted y by passing x to the model.\n",
        "        y_pred = model(x)\n",
        "        #print(f'y_pred={y_pred}')\n",
        "        #print(f'y_pred.shape={y_pred.shape}')\n",
        "        #print(f'y_target.shape={y_target.shape}')\n",
        "\n",
        "        # Compute and print loss.\n",
        "        loss = loss_fn(y_pred, y_target)\n",
        "\n",
        "        # Propagate the loss value backward.\n",
        "        loss.backward()\n",
        "\n",
        "        # Trigger the optimizer to update once.\n",
        "        optimizer.step()"
      ],
      "metadata": {
        "colab": {
          "base_uri": "https://localhost:8080/"
        },
        "id": "KfJzNNVwZPu_",
        "outputId": "f2e70db3-168f-4599-91f9-9c662b9b1aad"
      },
      "execution_count": null,
      "outputs": [
        {
          "output_type": "stream",
          "name": "stdout",
          "text": [
            "epoch=0\n",
            "epoch=1\n",
            "epoch=2\n",
            "epoch=3\n",
            "epoch=4\n"
          ]
        }
      ]
    },
    {
      "cell_type": "markdown",
      "source": [
        "### DataLoader\n",
        "`DataLoader` is used to iterate through dataset in batches. It can handle shuffling, batching, and loading the data in parallel using multiprocessing workers.\n",
        "\n",
        "ex. can you improve the above code framework to use `DataLoader`?"
      ],
      "metadata": {
        "id": "uN-2MhTXgLAJ"
      }
    },
    {
      "cell_type": "markdown",
      "source": [
        "# Excercise Tweet sentiment classification.\n",
        "\n",
        "Given a set of tweets with id, tweet and sentiment, train the dataset and predict new tweet sentiment. There are a few requirements,\n",
        "1. load the SMILE Twitter Emotion dataset from <a href=\"https://figshare.com/articles/dataset/smile_annotations_final_csv/3187909/2\">tweet sentiment data</a>. The 3,085 tweets mentioning 13 Twitter handles associated with British museums was gathered between May 2013 and June 2015. It was created for the purpose of classifying emotions, expressed on Twitter towards arts and cultural experiences in museums.\n",
        "  * use `torch.nn.Embedding` to vectorize texts.\n",
        "2. take tweet as feature, and sentiment as target.\n",
        "  * tweets are transformed to vectors before trained by the model.\n",
        "  * targets are numericalized from sentiment labels:  0-anger, 1-disgust, 2-happiness, 3-surprise and 4-sadness.\n",
        "3. use cross-entropy loss function."
      ],
      "metadata": {
        "id": "wBogJ_D8kjOY"
      }
    },
    {
      "cell_type": "markdown",
      "source": [
        "## Vectorization\n",
        "Tweets are tokenized into individual word units.\n",
        "<img src=\"https://mlspring.files.wordpress.com/2022/11/we_love_nlp.png?w=792\" width=300></img>\n",
        "\n",
        "Tokens are transformed to vectors by mapping from word embeddings. Embeddings are stored in a dictionary like data structure, to map word to a list of float values.\n",
        "\n",
        "<img src=\"https://storage.googleapis.com/coderzcolumn/static/tutorials/artificial_intelligence/word_embeddings.jpg\" width=300></img>"
      ],
      "metadata": {
        "id": "icdpQlSHM0EA"
      }
    },
    {
      "cell_type": "markdown",
      "source": [
        "## Load and Transform Dataset"
      ],
      "metadata": {
        "id": "d1w8-tJURr2a"
      }
    },
    {
      "cell_type": "code",
      "source": [
        "!wget https://github.com/ruslanmv/Deep-Learning-using-BERT/raw/main/Data/smile-annotations-final.csv"
      ],
      "metadata": {
        "colab": {
          "base_uri": "https://localhost:8080/"
        },
        "id": "BmJTdSsyPHdS",
        "outputId": "b7538f07-7b31-453f-f9aa-4b87d4c04887"
      },
      "execution_count": null,
      "outputs": [
        {
          "output_type": "stream",
          "name": "stdout",
          "text": [
            "--2024-03-01 04:41:19--  https://github.com/ruslanmv/Deep-Learning-using-BERT/raw/main/Data/smile-annotations-final.csv\n",
            "Resolving github.com (github.com)... 140.82.114.3\n",
            "Connecting to github.com (github.com)|140.82.114.3|:443... connected.\n",
            "HTTP request sent, awaiting response... 302 Found\n",
            "Location: https://raw.githubusercontent.com/ruslanmv/Deep-Learning-using-BERT/main/Data/smile-annotations-final.csv [following]\n",
            "--2024-03-01 04:41:19--  https://raw.githubusercontent.com/ruslanmv/Deep-Learning-using-BERT/main/Data/smile-annotations-final.csv\n",
            "Resolving raw.githubusercontent.com (raw.githubusercontent.com)... 185.199.108.133, 185.199.109.133, 185.199.110.133, ...\n",
            "Connecting to raw.githubusercontent.com (raw.githubusercontent.com)|185.199.108.133|:443... connected.\n",
            "HTTP request sent, awaiting response... 200 OK\n",
            "Length: 429669 (420K) [text/plain]\n",
            "Saving to: ‘smile-annotations-final.csv’\n",
            "\n",
            "smile-annotations-f 100%[===================>] 419.60K  --.-KB/s    in 0.04s   \n",
            "\n",
            "2024-03-01 04:41:19 (11.6 MB/s) - ‘smile-annotations-final.csv’ saved [429669/429669]\n",
            "\n"
          ]
        }
      ]
    },
    {
      "cell_type": "code",
      "source": [
        "import pandas as pd\n",
        "df = pd.read_csv('smile-annotations-final.csv',\n",
        "                 names =['id', 'tweet', 'category'])"
      ],
      "metadata": {
        "id": "F_rMHMYdPcy3"
      },
      "execution_count": null,
      "outputs": []
    },
    {
      "cell_type": "code",
      "source": [
        "df.info()"
      ],
      "metadata": {
        "colab": {
          "base_uri": "https://localhost:8080/"
        },
        "id": "_RzwFrk9Po1u",
        "outputId": "50c56f03-9d1d-46f8-c80a-0f1847af8224"
      },
      "execution_count": null,
      "outputs": [
        {
          "output_type": "stream",
          "name": "stdout",
          "text": [
            "<class 'pandas.core.frame.DataFrame'>\n",
            "RangeIndex: 3085 entries, 0 to 3084\n",
            "Data columns (total 3 columns):\n",
            " #   Column    Non-Null Count  Dtype \n",
            "---  ------    --------------  ----- \n",
            " 0   id        3085 non-null   int64 \n",
            " 1   tweet     3085 non-null   object\n",
            " 2   category  3085 non-null   object\n",
            "dtypes: int64(1), object(2)\n",
            "memory usage: 72.4+ KB\n"
          ]
        }
      ]
    },
    {
      "cell_type": "code",
      "source": [
        "df['tweet'] = df['tweet'].astype('string')\n",
        "df['category'] = df['category'].astype('string')"
      ],
      "metadata": {
        "id": "tXsbFipSPucu"
      },
      "execution_count": null,
      "outputs": []
    },
    {
      "cell_type": "code",
      "source": [
        "df.category.value_counts()"
      ],
      "metadata": {
        "colab": {
          "base_uri": "https://localhost:8080/"
        },
        "id": "0UM9QzjoRiqS",
        "outputId": "f4eaeb8c-d2b0-4a4c-a8d1-ea1b5e59b178"
      },
      "execution_count": null,
      "outputs": [
        {
          "output_type": "execute_result",
          "data": {
            "text/plain": [
              "nocode               1572\n",
              "happy                1137\n",
              "not-relevant          214\n",
              "angry                  57\n",
              "surprise               35\n",
              "sad                    32\n",
              "happy|surprise         11\n",
              "happy|sad               9\n",
              "disgust|angry           7\n",
              "disgust                 6\n",
              "sad|disgust             2\n",
              "sad|angry               2\n",
              "sad|disgust|angry       1\n",
              "Name: category, dtype: Int64"
            ]
          },
          "metadata": {},
          "execution_count": 39
        }
      ]
    },
    {
      "cell_type": "code",
      "source": [
        "# Transform sad|disgust, sad|disgust|angry to disgust;\n",
        "# Transform sad|angry to sad;\n",
        "df['category'] = df['category'].str.replace('sad|disgust|angry', 'disgust',\n",
        "                                            regex=False)\n",
        "df['category'] = df['category'].str.replace('sad|disgust', 'disgust',\n",
        "                                            regex=False)\n",
        "df['category'] = df['category'].str.replace('disgust|angry', 'disgust',\n",
        "                                            regex=False)\n",
        "df['category'] = df['category'].str.replace('sad|angry', 'sad', regex=False)\n",
        "df['category'] = df['category'].str.replace('happy|surprise', 'suprise',\n",
        "                                            regex=False)\n",
        "df['category'] = df['category'].str.replace('happy|sad', 'sad', regex=False)"
      ],
      "metadata": {
        "id": "hBXqQ2oIRyZh"
      },
      "execution_count": null,
      "outputs": []
    },
    {
      "cell_type": "code",
      "source": [
        "df['target'] = df['category'].astype('category').cat.codes"
      ],
      "metadata": {
        "id": "ftybynDTRaog"
      },
      "execution_count": null,
      "outputs": []
    },
    {
      "cell_type": "code",
      "source": [
        "df = df[df.category!= 'nocode']"
      ],
      "metadata": {
        "id": "4l4NN-bVDzrD"
      },
      "execution_count": null,
      "outputs": []
    },
    {
      "cell_type": "code",
      "source": [
        "dist = df.category.value_counts()\n",
        "print(dist)\n",
        "print(np.sum(dist))\n",
        "\n",
        "df.target.value_counts()"
      ],
      "metadata": {
        "colab": {
          "base_uri": "https://localhost:8080/"
        },
        "id": "KPFWLNPFEHD5",
        "outputId": "765585ea-70d3-4b28-c18f-eaecdf16ea25"
      },
      "execution_count": null,
      "outputs": [
        {
          "output_type": "stream",
          "name": "stdout",
          "text": [
            "happy           1137\n",
            "not-relevant     214\n",
            "angry             57\n",
            "sad               43\n",
            "surprise          35\n",
            "disgust           16\n",
            "suprise           11\n",
            "Name: category, dtype: Int64\n",
            "1513\n"
          ]
        },
        {
          "output_type": "execute_result",
          "data": {
            "text/plain": [
              "2    1137\n",
              "4     214\n",
              "0      57\n",
              "5      43\n",
              "7      35\n",
              "1      16\n",
              "6      11\n",
              "Name: target, dtype: int64"
            ]
          },
          "metadata": {},
          "execution_count": 43
        }
      ]
    },
    {
      "cell_type": "markdown",
      "source": [
        "## Training and Testing Datasets"
      ],
      "metadata": {
        "id": "w0_mbTukEK99"
      }
    },
    {
      "cell_type": "code",
      "source": [
        "from sklearn.model_selection import train_test_split\n",
        "\n",
        "# Split data into training and testing datasets.\n",
        "train_df, test_df = train_test_split(df,\n",
        "                                     test_size=0.15,\n",
        "                                     random_state=42,\n",
        "                                     stratify=df.target.values)"
      ],
      "metadata": {
        "id": "tvhnQOJnQJej"
      },
      "execution_count": null,
      "outputs": []
    },
    {
      "cell_type": "code",
      "source": [
        "train_df.info()\n",
        "test_df.info()\n",
        "\n",
        "print(train_df.target.value_counts())\n",
        "print(test_df.target.value_counts())"
      ],
      "metadata": {
        "colab": {
          "base_uri": "https://localhost:8080/"
        },
        "id": "nCj4Sn5VKDNa",
        "outputId": "3d0d6483-3e2a-40fe-d865-6621f94ff37a"
      },
      "execution_count": null,
      "outputs": [
        {
          "output_type": "stream",
          "name": "stdout",
          "text": [
            "<class 'pandas.core.frame.DataFrame'>\n",
            "Int64Index: 1286 entries, 2052 to 2360\n",
            "Data columns (total 4 columns):\n",
            " #   Column    Non-Null Count  Dtype \n",
            "---  ------    --------------  ----- \n",
            " 0   id        1286 non-null   int64 \n",
            " 1   tweet     1286 non-null   string\n",
            " 2   category  1286 non-null   string\n",
            " 3   target    1286 non-null   int8  \n",
            "dtypes: int64(1), int8(1), string(2)\n",
            "memory usage: 41.4 KB\n",
            "<class 'pandas.core.frame.DataFrame'>\n",
            "Int64Index: 227 entries, 1453 to 245\n",
            "Data columns (total 4 columns):\n",
            " #   Column    Non-Null Count  Dtype \n",
            "---  ------    --------------  ----- \n",
            " 0   id        227 non-null    int64 \n",
            " 1   tweet     227 non-null    string\n",
            " 2   category  227 non-null    string\n",
            " 3   target    227 non-null    int8  \n",
            "dtypes: int64(1), int8(1), string(2)\n",
            "memory usage: 7.3 KB\n",
            "2    966\n",
            "4    182\n",
            "0     48\n",
            "5     37\n",
            "7     30\n",
            "1     14\n",
            "6      9\n",
            "Name: target, dtype: int64\n",
            "2    171\n",
            "4     32\n",
            "0      9\n",
            "5      6\n",
            "7      5\n",
            "1      2\n",
            "6      2\n",
            "Name: target, dtype: int64\n"
          ]
        }
      ]
    },
    {
      "cell_type": "markdown",
      "source": [
        "### Tokenization and Vectorization"
      ],
      "metadata": {
        "id": "BeJgPhjjKggM"
      }
    },
    {
      "cell_type": "code",
      "source": [
        "import re\n",
        "\n",
        "from torchtext.data import get_tokenizer\n",
        "\n",
        "def tokenizer(inp_str): ## This method is one way of creating tokenizer that looks for word tokens\n",
        "    return re.findall(r\"\\w+\", inp_str)\n",
        "\n",
        "## We'll use tokenizer available from PyTorch\n",
        "tokenizer = get_tokenizer(\"basic_english\")"
      ],
      "metadata": {
        "id": "XtFUuikoMzJH"
      },
      "execution_count": null,
      "outputs": []
    },
    {
      "cell_type": "code",
      "source": [
        "from gensim.models import Word2Vec, KeyedVectors"
      ],
      "metadata": {
        "id": "mM4L3b4aPsoY"
      },
      "execution_count": null,
      "outputs": []
    },
    {
      "cell_type": "code",
      "source": [
        "X_train = [tokenizer(x[1]) for index,x in train_df.iterrows()]\n",
        "X_test = [tokenizer(x[1]) for index,x in test_df.iterrows()]\n",
        "X_comb = X_train + X_test\n",
        "print(f'len_X_train={len(X_train)}')\n",
        "print(f'len_X_test={len(X_test)}')\n",
        "print(f'X_train[0]={X_train[0]}')\n",
        "print(f'X_test[0]={X_test[0]}')\n",
        "\n",
        "embedding_dim = 100\n",
        "\n",
        "word2vec_model = Word2Vec(X_comb,\n",
        "                          vector_size=embedding_dim,\n",
        "                          window=5,\n",
        "                          min_count=1,\n",
        "                          workers=4)\n",
        "word_vectors = word2vec_model.wv\n",
        "print(word_vectors.vectors.shape)\n",
        "\n",
        "test_word = 'thanks'\n",
        "print(word_vectors.get_vector(test_word))"
      ],
      "metadata": {
        "colab": {
          "base_uri": "https://localhost:8080/"
        },
        "id": "N-LjJqguPuLW",
        "outputId": "244e127f-9caf-40c4-e88a-8e0f60973996"
      },
      "execution_count": null,
      "outputs": [
        {
          "output_type": "stream",
          "name": "stdout",
          "text": [
            "len_X_train=1286\n",
            "len_X_test=227\n",
            "X_train[0]=['@britishmuseum', 'thanks', 'so', 'much', 'for', 'doing', 'this', '.', 'i', 'absolutely', 'love', 'it', '.', '🎨📹']\n",
            "X_test[0]=['@exeterliving', '@thelmahulbert', 'thank', 'you', '!']\n",
            "(5884, 100)\n",
            "[-0.04797502  0.1334251   0.02657704  0.10833604  0.04165592 -0.3387237\n",
            "  0.15919717  0.41280246 -0.0920923  -0.20143549 -0.07220072 -0.27372986\n",
            " -0.06112517  0.13569607  0.07373121 -0.19932711  0.06663275 -0.17597759\n",
            " -0.08476263 -0.4159412   0.07136341  0.16341098  0.20311889 -0.07123322\n",
            " -0.08111148  0.02078133 -0.16993533 -0.09177081 -0.1353869  -0.05584313\n",
            "  0.23165616 -0.04103705  0.19811466 -0.2512971  -0.08183967  0.252294\n",
            "  0.06456909 -0.15088992 -0.1949821  -0.33021274 -0.03112774 -0.16355705\n",
            " -0.12198429  0.03363736  0.14135776 -0.08883438 -0.16998616 -0.06488236\n",
            "  0.06828587  0.14955811  0.05370075 -0.2046684  -0.04195133 -0.06738395\n",
            " -0.07936883  0.04148035  0.17300536 -0.07811309 -0.14714037  0.06437077\n",
            "  0.05178982 -0.02520544  0.07507511  0.04124762 -0.2070636   0.2904008\n",
            "  0.01336855  0.19437823 -0.2924398   0.23303176 -0.09391421  0.15739425\n",
            "  0.24769433  0.01652471  0.29555073  0.04683414  0.02176903  0.09196999\n",
            " -0.08547717  0.04134973 -0.18202376 -0.02808067 -0.25234628  0.32166046\n",
            " -0.13796307 -0.03926995  0.13950141  0.10830211  0.20340389  0.03560061\n",
            "  0.25346562  0.12610567  0.09373583  0.05778141  0.3544483   0.1785321\n",
            "  0.06046606 -0.09845738 -0.01012857 -0.03157062]\n"
          ]
        }
      ]
    },
    {
      "cell_type": "code",
      "source": [
        "# Initialize an empty list to hold all text vectors\n",
        "def get_text_embedding_matrix(texts):\n",
        "  text_vectors = []\n",
        "  for text in texts:\n",
        "      vectors = []\n",
        "      for word in text:\n",
        "          try:\n",
        "              vectors.append(word_vectors.get_vector(word))\n",
        "          except KeyError:\n",
        "              pass  # or handle unknown word case\n",
        "\n",
        "      if vectors:\n",
        "          text_vector = np.mean(vectors, axis=0)\n",
        "          text_vectors.append(text_vector)\n",
        "      else:\n",
        "          text_vectors.append(np.zeros(word_vectors.vector_size))\n",
        "\n",
        "  text_vectors_matrix = np.array(text_vectors)\n",
        "\n",
        "  print(f\"Text Vectors Matrix: {text_vectors_matrix.shape}\")\n",
        "  #print(text_vectors_matrix)\n",
        "  return text_vectors_matrix\n",
        "\n",
        "train_text_vectors = get_text_embedding_matrix(X_train)\n",
        "test_text_vectors = get_text_embedding_matrix(X_test)"
      ],
      "metadata": {
        "colab": {
          "base_uri": "https://localhost:8080/"
        },
        "id": "TgpWJXNNiWIT",
        "outputId": "7b221794-a23d-4155-cfc2-10cd8d6b3084"
      },
      "execution_count": null,
      "outputs": [
        {
          "output_type": "stream",
          "name": "stdout",
          "text": [
            "Text Vectors Matrix: (1286, 100)\n",
            "Text Vectors Matrix: (227, 100)\n"
          ]
        }
      ]
    },
    {
      "cell_type": "markdown",
      "source": [
        "### Dimensions\n",
        "\n",
        "Given the word vector dim = 100,\n",
        "* a word token embedding dimension = (1, 100);\n",
        "* a tweet with 10 words dimension = (10, 100);\n",
        "* a batch with 32 tweets dimension = (32, 10, 100).\n",
        "\n",
        "For simplicity, the above batch dimension = (32, 100), since the average vector value of all the words in one tweet represents the tweet embedding."
      ],
      "metadata": {
        "id": "VzX1zBTRlTEp"
      }
    },
    {
      "cell_type": "markdown",
      "source": [
        "### Training"
      ],
      "metadata": {
        "id": "1htm1tPWTCdm"
      }
    },
    {
      "cell_type": "code",
      "source": [
        "n_epochs = 5\n",
        "batch_size = 32\n",
        "lr = 0.001\n",
        "weight_decay=1e-5\n",
        "\n",
        "input_dim = embedding_dim\n",
        "training_size = len(X_train)\n",
        "testing_size = len(X_test)\n",
        "\n",
        "n_batches = int(training_size / batch_size)\n",
        "\n",
        "# The accurate way is to calculate probability instead of logit.\n",
        "model = Perceptron(input_dim=input_dim, cal_prob=False)\n",
        "loss_fn = nn.MSELoss()\n",
        "optimizer = optim.Adam(model.parameters(), lr=lr, weight_decay=weight_decay)"
      ],
      "metadata": {
        "id": "9x79NxqCQJVH"
      },
      "execution_count": null,
      "outputs": []
    },
    {
      "cell_type": "markdown",
      "source": [
        "### DataLoader"
      ],
      "metadata": {
        "id": "KSx0n1OTgs4T"
      }
    },
    {
      "cell_type": "code",
      "source": [
        "from torch.utils.data import DataLoader\n",
        "from torch.utils.data import TensorDataset\n",
        "\n",
        "x_train_tensor = torch.tensor(train_text_vectors).to(torch.float32)\n",
        "y_train_tensor = torch.tensor(train_df.target.values).to(torch.float32)\n",
        "\n",
        "print(f'x_train_tensor.shape={x_train_tensor.shape}')\n",
        "print(f'y_train_tensor.shape={y_train_tensor.shape}')\n",
        "\n",
        "train_dataset = TensorDataset(x_train_tensor, y_train_tensor)\n",
        "train_loader = DataLoader(train_dataset,\n",
        "                          batch_size=batch_size,\n",
        "                          shuffle=False)"
      ],
      "metadata": {
        "colab": {
          "base_uri": "https://localhost:8080/"
        },
        "id": "e6VjOmYoffLk",
        "outputId": "923496eb-7e98-4835-f544-7845fc606bef"
      },
      "execution_count": null,
      "outputs": [
        {
          "output_type": "stream",
          "name": "stdout",
          "text": [
            "x_train_tensor.shape=torch.Size([1286, 100])\n",
            "y_train_tensor.shape=torch.Size([1286])\n"
          ]
        }
      ]
    },
    {
      "cell_type": "markdown",
      "source": [
        "### Training Starts"
      ],
      "metadata": {
        "id": "HZSVuddQgwIV"
      }
    },
    {
      "cell_type": "code",
      "source": [
        "for epoch in range(n_epochs):\n",
        "    print(f'epoch={epoch}')\n",
        "    # Set the model to training mode\n",
        "    model.train()\n",
        "    for batch_idx, (x_tweets, y_target) in enumerate(train_loader):\n",
        "        #print(f'x={x_tweets.shape}')\n",
        "        #print(f'y_target={y_target}')\n",
        "\n",
        "        # Reset gradients\n",
        "        optimizer.zero_grad()\n",
        "\n",
        "        # Forward pass: compute predicted y by passing x to the model.\n",
        "        y_pred = model(x_tweets)\n",
        "        #print(f'y_pred.shape={y_pred.shape}')\n",
        "        #print(f'y_pred={y_pred}')\n",
        "\n",
        "        # Compute and print loss.\n",
        "        loss = loss_fn(y_pred, y_target)\n",
        "\n",
        "        # Propagate the loss value backward.\n",
        "        loss.backward()\n",
        "\n",
        "        # Trigger the optimizer to update once.\n",
        "        optimizer.step()\n",
        "\n",
        "        if batch_idx % 10 == 0:\n",
        "          print(f'Epoch: {epoch}, Batch: {batch_idx}, Loss: {loss.item()}')"
      ],
      "metadata": {
        "colab": {
          "base_uri": "https://localhost:8080/"
        },
        "id": "iWsPHnLQUDgm",
        "outputId": "1d3da200-519f-41d9-ba81-db9914be7615"
      },
      "execution_count": null,
      "outputs": [
        {
          "output_type": "stream",
          "name": "stdout",
          "text": [
            "epoch=0\n",
            "Epoch: 0, Batch: 0, Loss: 7.104066848754883\n",
            "Epoch: 0, Batch: 10, Loss: 7.940566539764404\n",
            "Epoch: 0, Batch: 20, Loss: 6.643784999847412\n",
            "Epoch: 0, Batch: 30, Loss: 3.9466938972473145\n",
            "Epoch: 0, Batch: 40, Loss: 5.249683856964111\n",
            "epoch=1\n",
            "Epoch: 1, Batch: 0, Loss: 4.063480854034424\n",
            "Epoch: 1, Batch: 10, Loss: 5.143594264984131\n",
            "Epoch: 1, Batch: 20, Loss: 4.207381248474121\n",
            "Epoch: 1, Batch: 30, Loss: 2.2536568641662598\n",
            "Epoch: 1, Batch: 40, Loss: 3.732974052429199\n",
            "epoch=2\n",
            "Epoch: 2, Batch: 0, Loss: 2.3332386016845703\n",
            "Epoch: 2, Batch: 10, Loss: 3.5790963172912598\n",
            "Epoch: 2, Batch: 20, Loss: 2.914829730987549\n",
            "Epoch: 2, Batch: 30, Loss: 1.5250487327575684\n",
            "Epoch: 2, Batch: 40, Loss: 3.0606510639190674\n",
            "epoch=3\n",
            "Epoch: 3, Batch: 0, Loss: 1.5118651390075684\n",
            "Epoch: 3, Batch: 10, Loss: 2.826937437057495\n",
            "Epoch: 3, Batch: 20, Loss: 2.3277502059936523\n",
            "Epoch: 3, Batch: 30, Loss: 1.3095542192459106\n",
            "Epoch: 3, Batch: 40, Loss: 2.8301239013671875\n",
            "epoch=4\n",
            "Epoch: 4, Batch: 0, Loss: 1.18459153175354\n",
            "Epoch: 4, Batch: 10, Loss: 2.510761260986328\n",
            "Epoch: 4, Batch: 20, Loss: 2.097259521484375\n",
            "Epoch: 4, Batch: 30, Loss: 1.296085000038147\n",
            "Epoch: 4, Batch: 40, Loss: 2.77854061126709\n"
          ]
        }
      ]
    },
    {
      "cell_type": "markdown",
      "source": [
        "### A Few Improvements\n",
        "\n",
        "* can you change the target from logits to one-hot encoded vectors? In this case, any predicted result is a vector of probabilities.\n",
        "\n",
        "* can you improve the code to work in the CUDA mode as well?"
      ],
      "metadata": {
        "id": "AOtCR_hHr9tH"
      }
    },
    {
      "cell_type": "markdown",
      "source": [
        "### Testing and Evaluation\n",
        "\n",
        "* Add a testing step to evaluate the model using `X_test` data.\n",
        "\n",
        "* Use proper evalution metrics to check model."
      ],
      "metadata": {
        "id": "DWnYAXUQswyw"
      }
    }
  ],
  "metadata": {
    "kernelspec": {
      "display_name": "Python 3",
      "name": "python3"
    },
    "language_info": {
      "name": "python"
    },
    "colab": {
      "provenance": [],
      "toc_visible": true,
      "include_colab_link": true
    }
  },
  "nbformat": 4,
  "nbformat_minor": 0
}